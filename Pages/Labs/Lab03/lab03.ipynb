{
  "cells": [
    {
      "cell_type": "raw",
      "metadata": {},
      "source": [
        "---\n",
        "title: \"Lab03\"\n",
        "subtitle: \"Descriptive Statistics\"\n",
        "author:\n",
        "  - name: \"PSTAT 5A\"\n",
        "    affiliations:\n",
        "      - name: \"Summer Session A, 2024\"\n",
        "author-title: \"Course\"\n",
        "affiliation-title: \"Quarter\"\n",
        "format: html\n",
        "execute:\n",
        "    kernel: myenv\n",
        "title-block-banner: \"#4144a6\"\n",
        "css: styles.css\n",
        "---"
      ],
      "id": "87ad00f2"
    },
    {
      "cell_type": "markdown",
      "metadata": {},
      "source": [
        "---\n",
        "\n",
        "It's finally time for us to revisit our notions of **descriptive statistics** (from Week 1 of the course), now in the context of Python!\n",
        "\n",
        "## Modules, Revisited\n",
        "\n",
        "Before we talk about plotting, we will need to quickly talk about **modules** again. Recall from Lab01 that modules are Python files containing definitions for functions and classes. Up until now, we've been importing all functions and classes from a module using the command"
      ],
      "id": "5a4cba02"
    },
    {
      "cell_type": "code",
      "metadata": {},
      "source": [
        "#| eval: False\n",
        "\n",
        "from <module name> import *"
      ],
      "id": "1bcf7b7a",
      "execution_count": null,
      "outputs": []
    },
    {
      "cell_type": "markdown",
      "metadata": {},
      "source": [
        "There is another way to import modules, which is the following:"
      ],
      "id": "1c85c7ff"
    },
    {
      "cell_type": "code",
      "metadata": {},
      "source": [
        "#| eval: False\n",
        "\n",
        "import <module name> as <abbreviation>"
      ],
      "id": "14c4fc60",
      "execution_count": null,
      "outputs": []
    },
    {
      "cell_type": "markdown",
      "metadata": {},
      "source": [
        "For example,"
      ],
      "id": "a836a0ff"
    },
    {
      "cell_type": "code",
      "metadata": {},
      "source": [
        "#| eval: False\n",
        "\n",
        "import numpy np"
      ],
      "id": "1f894f01",
      "execution_count": null,
      "outputs": []
    },
    {
      "cell_type": "markdown",
      "metadata": {},
      "source": [
        "not only imports the `numpy` module but imports it with the abbreviation (i.e. nickname) `np` so that we can simply write `np` in place of `numpy`. \\\n",
        "\n",
        "The reason this is particularly useful is because module names can sometimes be quite long, so being able to refer to the module with a shortened nickname will save a lot of time! \\\n",
        "\n",
        "In general, if we import a module using"
      ],
      "id": "20a08cf3"
    },
    {
      "cell_type": "code",
      "metadata": {},
      "source": [
        "#| eval: False\n",
        "\n",
        "import <module name> as <abbreviation>"
      ],
      "id": "00c87f24",
      "execution_count": null,
      "outputs": []
    },
    {
      "cell_type": "markdown",
      "metadata": {},
      "source": [
        "we reference functions from `<module name>` using the syntax"
      ],
      "id": "a21ed792"
    },
    {
      "cell_type": "code",
      "metadata": {},
      "source": [
        "#| eval: False\n",
        "<abbreviation>.<function name>()"
      ],
      "id": "e918c1eb",
      "execution_count": null,
      "outputs": []
    },
    {
      "cell_type": "markdown",
      "metadata": {},
      "source": [
        "For example, after having imported the `numpy` module with the nickname `np`, we access the `sin()` function contained in the `numpy` module by calling"
      ],
      "id": "4746ee37"
    },
    {
      "cell_type": "code",
      "metadata": {},
      "source": [
        "#| eval: False\n",
        "\n",
        "np.sin()"
      ],
      "id": "194fd2a0",
      "execution_count": null,
      "outputs": []
    },
    {
      "cell_type": "markdown",
      "metadata": {},
      "source": [
        ":::{.callout-important}\n",
        "## Task 1\n",
        "\n",
        "a. Import the `numpy` module as `np`, and check that `np.sin(0)` returns a value of `0`.\n",
        "\n",
        "b. Import the `datascience` module as `ds`, and check that "
      ],
      "id": "668dc53d"
    },
    {
      "cell_type": "code",
      "metadata": {},
      "source": [
        "#| eval: False\n",
        "ds.Table().with_columns(\n",
        "  \"Col1\", [1, 2, 3],\n",
        "  \"Col2\", [2, 3, 4]\n",
        ")"
      ],
      "id": "eec63710",
      "execution_count": null,
      "outputs": []
    },
    {
      "cell_type": "markdown",
      "metadata": {},
      "source": [
        "correctly displays as"
      ],
      "id": "4d0e8d70"
    },
    {
      "cell_type": "code",
      "metadata": {},
      "source": [
        "#| echo: False\n",
        "import datascience as ds\n",
        "ds.Table().with_columns(\n",
        "  \"Col1\", [1, 2, 3],\n",
        "  \"Col2\", [2, 3, 4]\n",
        ")"
      ],
      "id": "0086b936",
      "execution_count": null,
      "outputs": []
    },
    {
      "cell_type": "markdown",
      "metadata": {},
      "source": [
        ":::\n",
        "\n",
        ":::{.callout-warning}\n",
        "## Important\n",
        "If you import a module with an abbreviation `<abbreviation>`, you must always use the abbreviation when referencing the module; not the original module name.\n",
        ":::\n",
        "\n",
        "For example, after importing `numpy` as `np`, running `numpy.sin()` would return an error.\n",
        "\n",
        "## Numerical Summaries\n",
        "\n",
        "### Measures of Central Tendency\n",
        "\n",
        "Recall that for a list of numbers $X = \\{x_i\\}_{i=1}^{n}$, the mean is defined to be\n",
        "$$ \\overline{x} = \\frac{1}{n} \\sum_{i=1}^{n} x_i = \\frac{1}{n} (x_1 + \\cdots + x_n) $$\n",
        "Computing the mean of a list or array of numbers in Python is relatively simple, using the `np.mean()` function [recall that we imported the `numpy` module with the abbreviation `np`, meaning `np.mean()` is a shorthand for `numpy.mean()`]. Similarly, to compute the median of a list or array we can use `np.median()`.\n",
        "\n",
        ":::{.callout-important}\n",
        "## Task 2\n",
        "\n",
        "Let `x_list` be a list containing the elements `1`, `2`, and `3`, and let `x_array` be an array containing the elements `1`, `2`, and `3`. Compute the mean and median of `x_list` and `x_array` using the appropriate functions from the `numpy` module.\n",
        ":::\n",
        "\n",
        "### Measures of Spread\n",
        "\n",
        "Recall that we also discussed several measures of spread:\n",
        "\n",
        "- Standard deviation\n",
        "- IQR (Interquartile Range)\n",
        "- Range\n",
        "\n",
        "Sure enough, the `numpy` module contains several functions which help us compute these measures. Let's examine each separately.\n",
        "\n",
        "::: {.callout-important}\n",
        "## Task 3\n",
        "- Look up the help file on the function `np.ptp()`, and describe what it does. Also, answer the question: what does `ptp` actually stand for?\n",
        "- Now, apply the `np.ptp()` function on your `x_list` and `x_array` variables from Task 1 above and check that it functions like you expect.\n",
        ":::\n",
        "\n",
        "Next, we tackle a slightly peculiar function: `np.std()`. We expect this to compute the standard deviation of a list/array, but...\n",
        "\n",
        "::: {.callout-important}\n",
        "## Task 4\n",
        "a) Compute the standard deviation of the `x_list` variable from Task 1 **by hand**, and write down the answer using a comment or Markdown cell.\n",
        "b) Now, run `np.std(x_list)`. Does this answer agree with what you found in part (a) above?\n",
        "c) Now, recompute the standard deviation of `x_list` by hand but this time use $(1/n)$ instead of $(1 / n - 1)$ in the formula. How does *this* answer compare with the result of `np.std(x_list)`?\n",
        ":::\n",
        "\n",
        "The result of the previous Task is the following: given a list `x = [x1, x2, ..., xn]`, running `np.std(x)` actually computes\n",
        "$$ \\sqrt{ \\frac{1}{n} \\sum_{i=1}^{n} (x_i - \\overline{x})^2 } $$\n",
        "as opposed to our usual definition of standard deviation\n",
        "$$ s_X = \\sqrt{ \\frac{1}{n - 1} \\sum_{i=1}^{n} (x_i - \\overline{x})^2} $$\n",
        "We can actually fix this issue by passing in an additional argument to the `np.std()` function:\n",
        "\n",
        "::: {.callout-important}\n",
        "## Task 4 (cont'd)\n",
        "d) Run `np.std(x_list, ddof = 1)` and check whether this matches the result of part (a) above.\n",
        ":::\n",
        "\n",
        ":::{.callout-tip}\n",
        "## Result\n",
        "To compute the standard deviation of a list `x`, we run `np.std(x, ddof = 1)`.\n",
        ":::\n",
        "\n",
        "Finally, we turn to the IQR: to compute the IQR of a list/array `x`, we use (after importing `numpy` as `np`)"
      ],
      "id": "7f3a814f"
    },
    {
      "cell_type": "code",
      "metadata": {},
      "source": [
        "#| eval: False\n",
        "\n",
        "np.diff(np.percentile(x, [25,75]))[0]"
      ],
      "id": "aa6e1a36",
      "execution_count": null,
      "outputs": []
    },
    {
      "cell_type": "markdown",
      "metadata": {},
      "source": [
        "## Visualizations\n",
        "\n",
        "It's finally time to make pretty pictures! The module we will use to generate visualizations in this class is the `matplotlib` module (though there are quite a few other modules that work for visualizations as well). The official website for `matplotlib` can be found at [https://matplotlib.org/](https://matplotlib.org/). \\\n",
        "\n",
        "Before we generate any plots, we will need to run the following code once:"
      ],
      "id": "9c5dcacd"
    },
    {
      "cell_type": "code",
      "metadata": {},
      "source": [
        "#| eval: False\n",
        "%matplotlib inline\n",
        "import matplotlib\n",
        "import matplotlib.pyplot as plt\n",
        "plt.style.use('seaborn-v0_8-whitegrid')"
      ],
      "id": "1cfb4651",
      "execution_count": null,
      "outputs": []
    },
    {
      "cell_type": "markdown",
      "metadata": {},
      "source": [
        "Here's what these lines of code are doing:\n",
        "\n",
        "- `%matplotlib inline` tells Jupyter to actually display our plots in our notebook (if we didn't include this line, our plots wouldn't display)\n",
        "- `import matplotlib` imports the `matplotlib` module\n",
        "- `import matplotlib.pyplot as plt` imports the `pyplot` submodule (a submodule is just a module contained within another larger module) with the abbreviation `plt`.\n",
        "- `plt.style.use('seaborn-v0_8-whitegrid')` tells Jupyter to use a specific theme (called `seaborn-v0_8-whitegrid`) when generating plots.\n",
        "\n",
        "Again, notice the beauty of the `import <module> as <abbreviation>` syntax- after running the third line above, we no longer need to write `matplotlib.pyplot`, just `plt`! Also, there are lots of other themes you can use when generating your plots: after completing this lab, I encourage you to consult [this](https://matplotlib.org/stable/gallery/style_sheets/style_sheets_reference.html) reference guide for a list of a few other `pyplot` themes.\n",
        "\n",
        "### Boxplots and Histograms\n",
        "\n",
        "Now, let's proceed on to make some plots. The first two types of plots we will look at are the two we used to describe numerical data: namely, **boxplots** and **histograms**. The functions we will use are the `plt.boxplot()` and `plt.his()` functions, respectively.\n",
        "\n",
        "::: {.callout-important}\n",
        "## Task 5\n",
        "a) Make a list called `y` that contains the following elements: `[1, 2, 3, 4, 5, 4, 3, 5, 4, 1, 2]`.\n",
        "\n",
        "b) Run `plt.boxplot(y);` (be sure to include the semicolon!). With any luck, your plot should look like:\n"
      ],
      "id": "df7d8ddb"
    },
    {
      "cell_type": "code",
      "metadata": {},
      "source": [
        "#| echo: False\n",
        "#| eval: True\n",
        "\n",
        "%matplotlib inline\n",
        "import matplotlib\n",
        "import matplotlib.pyplot as plt\n",
        "plt.style.use('seaborn-v0_8-whitegrid')\n",
        "plt.figure(figsize=(4.5, 2.25))\n",
        "\n",
        "y = [1, 2, 3, 4, 5, 4, 3, 5, 4, 1, 2]\n",
        "plt.boxplot(y);"
      ],
      "id": "8d9bfd02",
      "execution_count": null,
      "outputs": []
    },
    {
      "cell_type": "markdown",
      "metadata": {},
      "source": [
        "c. Let's make our boxplot horizontal, as opposed to vertical. Consult the help file on the `matplotlib.pyplot.boxplot()` function [here](https://matplotlib.org/stable/api/_as_gen/matplotlib.pyplot.boxplot.html) and figure out how to position your boxplot horizontally. Your new plot should look like:"
      ],
      "id": "895a008f"
    },
    {
      "cell_type": "code",
      "metadata": {},
      "source": [
        "#| echo: False\n",
        "#| eval: True\n",
        "plt.figure(figsize=(4.5, 2.25))\n",
        "plt.boxplot(y, vert = False);"
      ],
      "id": "29a66d78",
      "execution_count": null,
      "outputs": []
    },
    {
      "cell_type": "markdown",
      "metadata": {},
      "source": [
        "d. Next, let's add some color to our plot. Within your call to `plt.boxplot()`, add the following:\n",
        "`patch_artist=True, boxprops = dict(facecolor = \"aquamarine\")`\n",
        "(don't worry too much about what exactly this code is doing). Your boxplot should now look like this:"
      ],
      "id": "bad63335"
    },
    {
      "cell_type": "code",
      "metadata": {},
      "source": [
        "#| echo: False\n",
        "#| eval: True\n",
        "plt.figure(figsize=(4.5, 2.25))\n",
        "plt.boxplot(y, vert = False, patch_artist = True, boxprops = dict(facecolor = \"aquamarine\"));"
      ],
      "id": "8f838508",
      "execution_count": null,
      "outputs": []
    },
    {
      "cell_type": "markdown",
      "metadata": {},
      "source": [
        "e. Finally, let's add a Title! Right below your call to `plt.boxplot()`, add the following:\n",
        "`plt.title(\"My First Python Boxplot\");` (again, note the semicolons).\n",
        "Your final plot should look like this:"
      ],
      "id": "d64b5244"
    },
    {
      "cell_type": "code",
      "metadata": {},
      "source": [
        "#| echo: False\n",
        "#| eval: True\n",
        "plt.figure(figsize=(4.5, 2.25))\n",
        "plt.boxplot(y, vert = False, patch_artist = True, boxprops = dict(facecolor = \"aquamarine\"));\n",
        "plt.title(\"My First Python Boxplot\");"
      ],
      "id": "b99ed367",
      "execution_count": null,
      "outputs": []
    },
    {
      "cell_type": "markdown",
      "metadata": {},
      "source": [
        "f. Time for a review: based on the boxplot we just generated, what is the IQR of `y`? Write your answer in a Markdown cell. Then, use the syntax discussed in the previous section of this Lab to use Python to compute the IQR of `y`, and comment on the result.\n",
        ":::\n",
        "\n",
        "Of course, boxplots are not the only way to summarize numerical variables: we also have histograms!\n",
        "\n",
        "::: {.callout-important}\n",
        "## Task 6\n",
        "Call the `plt.hist()` function on the `y` list defined in Task 3, and use the [help file](https://matplotlib.org/stable/api/_as_gen/matplotlib.pyplot.hist.html) to add arguments to your call to `plt.hist()` function to generate the following plot:"
      ],
      "id": "e33d7a18"
    },
    {
      "cell_type": "code",
      "metadata": {},
      "source": [
        "#| echo: False\n",
        "#| eval: True\n",
        "plt.figure(figsize=(4.5, 2.25))\n",
        "plt.hist(y, bins = 3, edgecolor = \"white\");\n",
        "plt.title(\"My First Python Histogram\");"
      ],
      "id": "95392a16",
      "execution_count": null,
      "outputs": []
    },
    {
      "cell_type": "markdown",
      "metadata": {},
      "source": [
        "Pay attention to the number of bins!\n",
        ":::\n",
        "\n",
        "\n",
        "### Scatterplots\n",
        "\n",
        "We should also quickly discuss how to generate scatterplots in Python.\n",
        "\n",
        ":::{.callout-important}\n",
        "## Task 7\n",
        "\n",
        "a. Copy-paste the following code into a code cell, and then run that cell (don't worry about what this code is doing- we'll discuss that in a future lab)."
      ],
      "id": "749aeabb"
    },
    {
      "cell_type": "code",
      "metadata": {},
      "source": [
        "#| eval: False\n",
        "np.random.seed(5)\n",
        "\n",
        "x1 = np.random.normal(0, 1, 100)\n",
        "x2 = x1 + np.random.normal(0, 1, 100)\n",
        "\n",
        "plt.scatter(x1, x2);"
      ],
      "id": "de83b70c",
      "execution_count": null,
      "outputs": []
    },
    {
      "cell_type": "markdown",
      "metadata": {},
      "source": [
        "Your plot should look like this:"
      ],
      "id": "4302d341"
    },
    {
      "cell_type": "code",
      "metadata": {},
      "source": [
        "#| echo: False\n",
        "import numpy as np\n",
        "np.random.seed(5)\n",
        "\n",
        "x1 = np.random.normal(0, 1, 100)\n",
        "x2 = x1 + np.random.normal(0, 1, 100)\n",
        "\n",
        "plt.figure(figsize=(4.5, 2.25))\n",
        "plt.scatter(x1, x2);"
      ],
      "id": "f29ccf87",
      "execution_count": null,
      "outputs": []
    },
    {
      "cell_type": "markdown",
      "metadata": {},
      "source": [
        "b. Add an x-axis label that says `\"x1\"` and a y-axis label that says `\"x2\"`, along with the title \"My First Python Scatterplot\". Your final plot should look like:"
      ],
      "id": "61e73747"
    },
    {
      "cell_type": "code",
      "metadata": {},
      "source": [
        "#| echo: False\n",
        "plt.figure(figsize=(4.5, 2.25))\n",
        "plt.scatter(x1, x2);\n",
        "plt.xlabel(\"x1\");\n",
        "plt.ylabel(\"x2\");\n",
        "plt.title(\"My First Python Scatterplot\");"
      ],
      "id": "a8845a30",
      "execution_count": null,
      "outputs": []
    },
    {
      "cell_type": "markdown",
      "metadata": {},
      "source": [
        "c. Does there appear to be an association between the variables `x1` and `x2`? If so, is the association positive or negative? Linear or nonlinear? Answer using a comment or a Markdown Cell.\n",
        ":::\n",
        "\n",
        "## Plotting a Function\n",
        "\n",
        "Finally, I'd like to take a quick detour from descriptive statistics and talk about how to plot a function using Python. As a concrete example, let's try and plot a sine curve from $0$ to $2\\pi$. \n",
        "\n",
        "If you recall, on Lab01 we used the `sin()` function from the `math` module- it turns out that the `numpy` module (which, recall, we have imported as `np`) also has a `sin()` function, so let's use that one today:"
      ],
      "id": "ec87528b"
    },
    {
      "cell_type": "code",
      "metadata": {},
      "source": [
        "#| eval: False\n",
        "\n",
        "np.sin()"
      ],
      "id": "d26aa103",
      "execution_count": null,
      "outputs": []
    },
    {
      "cell_type": "markdown",
      "metadata": {},
      "source": [
        "Next, we create a set of finely-spaced points between our two desired endpoints (in this case, $0$ and $2\\pi$, respectively). We will do so using the `np.linspace()` function, which works as follows:"
      ],
      "id": "ce26f907"
    },
    {
      "cell_type": "code",
      "metadata": {},
      "source": [
        "#| eval: False\n",
        "\n",
        "np.linspace(start, stop, num)"
      ],
      "id": "cd4b3f49",
      "execution_count": null,
      "outputs": []
    },
    {
      "cell_type": "markdown",
      "metadata": {},
      "source": [
        "creates a set of `num` evenly-spaced values between `start` and `stop`, respectively. For instance:"
      ],
      "id": "cff738fb"
    },
    {
      "cell_type": "code",
      "metadata": {},
      "source": [
        "np.linspace(0, 1, 10)"
      ],
      "id": "c9fd3eee",
      "execution_count": null,
      "outputs": []
    },
    {
      "cell_type": "markdown",
      "metadata": {},
      "source": [
        "In the context of plotting, the more points we generate the smoother our plot will seem (you will see what this means in a minute). As such, let's start with `150` points between `0` and `2 * pi`:"
      ],
      "id": "f9b0e189"
    },
    {
      "cell_type": "code",
      "metadata": {},
      "source": [
        "x = np.linspace(0, 2 * np.pi, 150)"
      ],
      "id": "f2d52283",
      "execution_count": null,
      "outputs": []
    },
    {
      "cell_type": "markdown",
      "metadata": {},
      "source": [
        "Finally, we call the `plt.plot()` function on `x` and `np.sin(x)` to generate our plot:"
      ],
      "id": "0d5a92fd"
    },
    {
      "cell_type": "code",
      "metadata": {},
      "source": [
        "plt.figure(figsize=(4.5, 2.25))\n",
        "plt.plot(x, np.sin(x))"
      ],
      "id": "272c19cc",
      "execution_count": null,
      "outputs": []
    },
    {
      "cell_type": "markdown",
      "metadata": {},
      "source": [
        "Let's see what would have happened if we used fewer values in our `np.linspace()` call:"
      ],
      "id": "6b4b6224"
    },
    {
      "cell_type": "code",
      "metadata": {},
      "source": [
        "#| eval: False\n",
        "xnew = np.linspace(0, 2 * np.pi, 10)\n",
        "plt.plot(xnew, np.sin(xnew))"
      ],
      "id": "eedefb35",
      "execution_count": null,
      "outputs": []
    },
    {
      "cell_type": "code",
      "metadata": {},
      "source": [
        "#| echo: False\n",
        "xnew = np.linspace(0, 2 * np.pi, 10)\n",
        "plt.figure(figsize=(4.5, 2.25))\n",
        "plt.plot(xnew, np.sin(xnew))"
      ],
      "id": "49f7de20",
      "execution_count": null,
      "outputs": []
    },
    {
      "cell_type": "markdown",
      "metadata": {},
      "source": [
        "So, the more points we include in our call to `np.linspace()`, the smoother our final function will look! \\\n",
        "\n",
        "So, to summarize, here is the general \"recipe\" to plot a function `f()` between two values `a` and `b` in Python:\n",
        "\n",
        "1. Let `x = np.linspace(a, b, <some large value>)`\n",
        "2. Call `plt.plot(x, f(x))`\n",
        "3. Add labels/titles as necessary\n",
        "\n",
        ":::{.callout-important}\n",
        "## Task 8\n",
        "Generate a plot of the function $f(x) = x - x^2 \\sin(x)$ between $x = -10$ and $x = 10$. Experiment around with the number of values generated by `np.linspace()` to ensure your plot is relatively smooth. Be sure to include axis labels; also, change the color of the graph to red. Your final plot should look something like this:"
      ],
      "id": "3e1f6b3f"
    },
    {
      "cell_type": "code",
      "metadata": {},
      "source": [
        "#| echo: False\n",
        "def f(x):\n",
        "    return x - (x ** 2) * np.sin(x)\n",
        "  \n",
        "x = np.linspace(-10, 10, 150)\n",
        "plt.figure(figsize=(4.5, 2.25))\n",
        "plt.plot(x, f(x), color='red');\n",
        "plt.xlabel(\"x\");\n",
        "plt.ylabel(\"f(x)\");\n",
        "plt.title(\"Plot of f(x) = x - x^2 sin(x)\");"
      ],
      "id": "525af1ee",
      "execution_count": null,
      "outputs": []
    },
    {
      "cell_type": "markdown",
      "metadata": {},
      "source": [
        ":::\n",
        "\n",
        "\n",
        ":::{.callout-caution}\n",
        "## **NOTICE**\n",
        "\n",
        "You only need to complete up to here during Lab, but you should complete the following tasks on your own as they are fair game for quizzes and exams (and are also very useful for your own edification!)\n",
        ":::\n",
        "\n",
        "### Overlaying Plots\n",
        "\n",
        "Sometimes it will be useful to overlay two plots on top of each other. Recall that, for a function `f()` and a variable `x` that has been assigned a value resulting from a call to `numpy.linspace()`, we generate a graph of `f()` using (assuming `matplotlib.pyplot` has been imported as `plt`)\n"
      ],
      "id": "21315771"
    },
    {
      "cell_type": "code",
      "metadata": {},
      "source": [
        "#| eval: False\n",
        "#| echo: True\n",
        "plt.plot(x, f(x));"
      ],
      "id": "bfe0336d",
      "execution_count": null,
      "outputs": []
    },
    {
      "cell_type": "markdown",
      "metadata": {},
      "source": [
        "It stands to reason, then that given another function `g()` we should be able to superimpose the graph of `g()` onto the graph of `f()` by simply adding another call to `plt.plot()`:\n"
      ],
      "id": "51b0446c"
    },
    {
      "cell_type": "code",
      "metadata": {},
      "source": [
        "#| eval: False\n",
        "#| echo: True\n",
        "plt.plot(x, f(x));\n",
        "plt.plot(x, g(x));"
      ],
      "id": "7d388cc6",
      "execution_count": null,
      "outputs": []
    },
    {
      "cell_type": "markdown",
      "metadata": {},
      "source": [
        ":::{.callout-important}\n",
        "## Task 9\n",
        "Generate a graph of `sin()`; on top of this graph, superimpose the graph of `cos()`. Restrict the `x` values on your graph to be between  $-4\\pi$ and $4\\pi$. Your final graph should look like the following (pay attention to the axis labels and title!):"
      ],
      "id": "5b08de6f"
    },
    {
      "cell_type": "code",
      "metadata": {},
      "source": [
        "#| echo: False\n",
        "x = np.linspace(-4 * np.pi, 4 * np.pi, 150)\n",
        "\n",
        "plt.figure(figsize=(4.5, 2.25))\n",
        "plt.plot(x, np.sin(x));\n",
        "plt.plot(x, np.cos(x));\n",
        "plt.xlabel(\"x\");\n",
        "plt.ylabel(\"y\");\n",
        "plt.title(\"Graph of Sine and Cosine\");"
      ],
      "id": "c24cd08b",
      "execution_count": null,
      "outputs": []
    },
    {
      "cell_type": "markdown",
      "metadata": {},
      "source": [
        ":::\n",
        "\n",
        "\n",
        "Now, as it stands, it's a bit difficult to determine which curve corresponds to the sine curve and which corresponds to the cosine curve. As such, we should add some labels!\n",
        "\n",
        ":::{.callout-important}\n",
        "## Task 10\n",
        "Copy your code from Task 9 above into a new code cell, and\n",
        "\n",
        "- add `label = \"sine\"` to your call to `plt.plot()` containing the sine curve\n",
        "- add `label = \"cosine\"` to your call to `plt.plot()` containing the cosine curve. \n",
        "\n",
        "Does this new plot look any different than the plot you generated in Task 3?\n",
        ":::\n",
        "\n",
        "Hm, doesn't look like anything changed... That's because we didn't add a **legend** to our plot! To add a legend, we simply tack on a call to `plt.legend()` after our code from above.\n",
        "\n",
        ":::{.callout-important}\n",
        "## Task 11\n",
        "Copy your code from Task 10 above into a new code cell, and add a line underneath it containing a call to `plt.legend()`. Look up the help file to figure out what arguments you need to pass in to obtain the following graph (note the **position** of the legend):\n"
      ],
      "id": "a0762c6c"
    },
    {
      "cell_type": "code",
      "metadata": {},
      "source": [
        "#| echo: False\n",
        "\n",
        "%matplotlib inline\n",
        "import matplotlib\n",
        "import matplotlib.pyplot as plt\n",
        "plt.style.use('seaborn-v0_8-whitegrid')\n",
        "\n",
        "import numpy as np\n",
        "x = np.linspace(-4 * np.pi, 4 * np.pi, 150)\n",
        "\n",
        "plt.figure(figsize=(4.5, 2.25))\n",
        "plt.plot(x, np.sin(x), label = \"sine\");\n",
        "plt.plot(x, np.cos(x), label = \"cosine\");\n",
        "plt.xlabel(\"x\");\n",
        "plt.ylabel(\"y\");\n",
        "plt.title(\"Graph of Sine and Cosine\");\n",
        "plt.legend(loc=\"upper left\");"
      ],
      "id": "204bd6e8",
      "execution_count": null,
      "outputs": []
    },
    {
      "cell_type": "markdown",
      "metadata": {},
      "source": [
        ":::\n",
        "\n",
        "Okay, we're almost there! The only issue is that now the legend is covered up by the actual graphs. One way we can fix this is by extending the $y-$axis further, using the function `plt.ylim()`:\n",
        "\n",
        ":::{.callout-important}\n",
        "## Task 12\n",
        "Copy your code from Task 11 above into a new code cell, and add a line underneath it containing a call to `plt.ylim()`. Look up the help file to figure out what arguments you need to pass in to obtain a lower $y-$limit of $-1.5$ and an upper $y-$limit of $2.0$. Your final graph should look like this:\n"
      ],
      "id": "750f6b41"
    },
    {
      "cell_type": "code",
      "metadata": {},
      "source": [
        "#| echo: False\n",
        "\n",
        "%matplotlib inline\n",
        "import matplotlib\n",
        "import matplotlib.pyplot as plt\n",
        "plt.style.use('seaborn-v0_8-whitegrid')\n",
        "\n",
        "import numpy as np\n",
        "x = np.linspace(-4 * np.pi, 4 * np.pi, 150)\n",
        "\n",
        "plt.figure(figsize=(4.5, 2.25))\n",
        "plt.plot(x, np.sin(x), label = \"sine\");\n",
        "plt.plot(x, np.cos(x), label = \"cosine\");\n",
        "plt.xlabel(\"x\");\n",
        "plt.ylabel(\"y\");\n",
        "plt.title(\"Graph of Sine and Cosine\");\n",
        "plt.legend(loc=\"upper left\");\n",
        "plt.ylim(-1.5, 2.0);"
      ],
      "id": "ffd4dbff",
      "execution_count": null,
      "outputs": []
    },
    {
      "cell_type": "markdown",
      "metadata": {},
      "source": [
        ":::\n",
        "\n",
        "\n",
        "Finally, it is sometimes considered bad form to rely too heavily on colors in plots. This is because doing so alienates readers who are colorblind. One way around this is to rely on different *line types*; e.g. used dashed lines for one graph and dotted lines for another. \n",
        "\n",
        ":::{.callout-important}\n",
        "## Task 13\n",
        "Copy your code from Task 12 above into a new code cell. Read the following [help file](https://matplotlib.org/stable/api/_as_gen/matplotlib.pyplot.plot.html) and figure out how to pass in a value to the `linestyle` argument to your two calls to `plt.plot()` to generate the following plot:\n"
      ],
      "id": "8198ae3f"
    },
    {
      "cell_type": "code",
      "metadata": {},
      "source": [
        "#| echo: False\n",
        "\n",
        "%matplotlib inline\n",
        "import matplotlib\n",
        "import matplotlib.pyplot as plt\n",
        "plt.style.use('seaborn-v0_8-whitegrid')\n",
        "\n",
        "import numpy as np\n",
        "x = np.linspace(-4 * np.pi, 4 * np.pi, 150)\n",
        "\n",
        "plt.figure(figsize=(4.5, 2.25))\n",
        "plt.plot(x, np.sin(x), label = \"sine\", linestyle = \":\");\n",
        "plt.plot(x, np.cos(x), label = \"cosine\", linestyle = \"--\");\n",
        "plt.xlabel(\"x\");\n",
        "plt.ylabel(\"y\");\n",
        "plt.title(\"Graph of Sine and Cosine\");\n",
        "plt.legend(loc=\"upper left\");\n",
        "plt.ylim(-1.5, 2.0);"
      ],
      "id": "ac119c50",
      "execution_count": null,
      "outputs": []
    },
    {
      "cell_type": "markdown",
      "metadata": {},
      "source": [
        "Note that the sine curve is now dotted, and the cosine curve is now dashed.\n",
        ":::\n"
      ],
      "id": "91b49418"
    }
  ],
  "metadata": {
    "kernelspec": {
      "name": "eds220-env",
      "language": "python",
      "display_name": "Python (eds220-env)"
    }
  },
  "nbformat": 4,
  "nbformat_minor": 5
}